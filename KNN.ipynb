{
  "cells": [
    {
      "cell_type": "markdown",
      "metadata": {
        "id": "DVL7_bgmIAPR"
      },
      "source": [
        "# K-Nearest Neighbor Lab\n",
        "\n",
        "\n",
        "\n"
      ]
    },
    {
      "cell_type": "markdown",
      "source": [
        "<a target=\"_blank\" href=\"https://colab.research.google.com/github/dahenderson98/K-Nearest-Neighbors/blob/main/KNN.ipynb\">\n",
        "  <img src=\"https://colab.research.google.com/assets/colab-badge.svg\" alt=\"Open In Colab\"/>\n",
        "</a>"
      ],
      "metadata": {
        "id": "bRloWAQOOMzt"
      }
    },
    {
      "cell_type": "code",
      "execution_count": null,
      "metadata": {
        "id": "6ZbYjZZZ_yLV"
      },
      "outputs": [],
      "source": [
        "from sklearn.base import BaseEstimator, ClassifierMixin\n",
        "from sklearn.neighbors import KNeighborsClassifier, KNeighborsRegressor\n",
        "from sklearn.model_selection import train_test_split\n",
        "import numpy as np\n",
        "import heapq\n",
        "from scipy.io import arff\n",
        "import matplotlib.pyplot as plt"
      ]
    },
    {
      "cell_type": "markdown",
      "metadata": {
        "id": "sCcEPx5VIORj"
      },
      "source": [
        "## 1. Implement the k-nearest neighbor (KNN) algorithm\n",
        "\n",
        "### Code requirements\n",
        "- Use Euclidean distance to decide closest neighbors\n",
        "- Implement both the regular (classifcation) version and the regression version\n",
        "- Include optional distance weighting for both algorithms"
      ]
    },
    {
      "cell_type": "code",
      "execution_count": null,
      "metadata": {
        "id": "_a2KSZ_7AN0G"
      },
      "outputs": [],
      "source": [
        "class KNNClassifier(BaseEstimator,ClassifierMixin):\n",
        "    def __init__(self, columntype=[], mixed_types=False, weight_type='inverse_distance', algorithm=\"classification\", k=3, normalize=False): \n",
        "        \"\"\"\n",
        "        Args:\n",
        "            columntype for each column tells you if continuous[real] or if nominal[categoritcal].\n",
        "            weight_type: inverse_distance voting or if non distance weighting. Options = [\"no_weight\",\"inverse_distance\"]\n",
        "            algorithm: calculate a nominal or continuous prediction model. Options = [\"classification\",\"regression\"]\n",
        "            k: number of nearest neighbors to consider when predicting a new instance's output. Options = [1, dataset.size]\n",
        "        \"\"\"\n",
        "        self.columntype = columntype\n",
        "        self.weight_type = weight_type\n",
        "        self.algorithm = algorithm\n",
        "        self.k = k\n",
        "        self.normalize=normalize\n",
        "\n",
        "    def fit(self, data, labels):\n",
        "        \"\"\" Fit the data; run the algorithm (for this lab really just saves the data :D)\n",
        "        Args:\n",
        "            X (array-like): A 2D numpy array with the training data, excluding targets\n",
        "            y (array-like): A 2D numpy array with the training targets\n",
        "        Returns:\n",
        "            self: this allows this to be chained, e.g. model.fit(X,y).predict(X_test)\n",
        "        \"\"\"\n",
        "        data = self.set_floats(data)\n",
        "        if self.normalize:\n",
        "          data = self.normalize_data(data)\n",
        "        if self.algorithm == \"regression\":\n",
        "          labels = labels.astype(float)\n",
        "\n",
        "        self.data = data\n",
        "        self.labels = labels\n",
        "        return self\n",
        "\n",
        "    def set_floats(self, data):\n",
        "      if len(self.columntype) == 0:\n",
        "        data = data.astype(float)\n",
        "      else:\n",
        "        for i in range(data.shape[1]):\n",
        "          if self.columntype[i] == 'c':\n",
        "            data[:,i] = data[:,i].astype(float)\n",
        "      return data\n",
        "\n",
        "    def normalize_data(self, data):\n",
        "      for col in range(data.shape[1]):\n",
        "        if len(self.columntype) == 0 or self.columntype[col] == 'c':\n",
        "          xmin, xmax = np.min(data[:,col].astype(float)), np.max(data[:,col].astype(float))\n",
        "          _range = xmax-xmin\n",
        "          data[:,col] = (data[:,col].astype(float) - xmin) / _range\n",
        "      return data\n",
        "\n",
        "    def get_euc_dist(self, p1, p2):\n",
        "      return np.sqrt( np.sum( [ np.power((float(p1[i]) - float(p2[i])), 2) for i in range(len(p1)) ] ) )\n",
        "    \n",
        "    def predict(self, data):\n",
        "        \"\"\" Predict all classes for a dataset X\n",
        "        Args:\n",
        "            X (array-like): A 2D numpy array with the training data, excluding targets\n",
        "        Returns:\n",
        "            array, shape (n_samples,)\n",
        "                Predicted target values per element in X.\n",
        "        \"\"\"\n",
        "        predictions = []\n",
        "\n",
        "        \n",
        "        for i in range(data.shape[0]):\n",
        "          # Get Euclidian distances between new datapoint and all known datapoints\n",
        "          if len(self.columntype) == 0: distances = np.linalg.norm(self.data - data[i], axis=1)\n",
        "          # For data containing nominal features, represent differences in nominal data between intance and dataset as 0.5\n",
        "          else:\n",
        "            distances_list = []\n",
        "            for j in range(self.data.shape[0]):\n",
        "              sum = 0.0\n",
        "              for k in range(self.data.shape[1]):\n",
        "                if self.columntype[k] == 'c':\n",
        "                  if self.data[j,k] == '?' or data[i,k] == '?': new_dist = 0.5\n",
        "                  else: new_dist = self.data[j,k].astype(float) - data[i,k].astype(float)\n",
        "                else:\n",
        "                  new_dist = 0.0 if self.data[j,k] == data[i,k] else 0.5\n",
        "                sum = sum + np.power(new_dist, 2)\n",
        "              distances_list.append(np.sqrt(sum))\n",
        "            distances = np.array(distances_list)\n",
        "\n",
        "          #print(\"Distances:\",distances)\n",
        "          knn_indices = np.argsort(distances)[:self.k]\n",
        "          # Create list with the k datapoints having the lowest Euclidian distance from the new datapoint (k nearest neighbors)\n",
        "          knn = []\n",
        "          # Create list of labels corresponding to datapoints with lowest Euclidian distances\n",
        "          knn_targets = []\n",
        "          # Create list of Euclidian distances corresponding to datapoints in nearest neighbors list above\n",
        "          inverse_weights = []\n",
        "          for j in knn_indices:\n",
        "            knn.append(self.data[j])\n",
        "            knn_targets.append(self.labels[j])\n",
        "            inverse_weights.append(distances[j])\n",
        "\n",
        "          if self.algorithm == \"classification\":\n",
        "            output_options, vote_counts = np.unique(knn_targets, return_counts=True)\n",
        "            # Predict new datapoint's output based on k nearest neighbors' outputs\n",
        "            if self.weight_type == \"inverse_distance\":\n",
        "              # If using distance weighting, scale output votes of k nearest neighbors and record the output with the highest vote factor\n",
        "              # First, map outputs to vote_factors indices\n",
        "              vote_factors = np.zeros(len(output_options))\n",
        "              idx = [ j for j in range(len(output_options)) ]\n",
        "              output_dict = {}\n",
        "              for A, B in zip(output_options, idx):\n",
        "                output_dict[A] = B\n",
        "              for j in range(self.k):\n",
        "                vote_factors[ output_dict[ knn_targets[j][0] ] ] += 1.0 / inverse_weights[j]\n",
        "              prediction = output_options[ np.argmax(vote_factors) ]\n",
        "            else:\n",
        "              # If using non-distance weighting, record the output with the most votes from k nearest neighbors\n",
        "              prediction = output_options[ np.argmax(vote_counts) ]\n",
        "            # Append highest-voted output to predictions list as the prediction for this instance\n",
        "            predictions.append(prediction)\n",
        "          elif self.algorithm == \"regression\":\n",
        "            output_options = np.array(np.unique(knn_targets)).astype(float)\n",
        "            knn_outputs = []\n",
        "            for j in range(len(knn_indices)):\n",
        "              knn_outputs.append(self.labels[knn_indices[j]][0])\n",
        "            knn_outputs = np.array(knn_outputs)\n",
        "            # Predict new datapoint's output based on k nearest neighbors' outputs\n",
        "            if self.weight_type == \"inverse_distance\":\n",
        "              # If using distance weighting, record average output of k nearest neighbors, each scaled by their inverse distance\n",
        "              weights_sq = np.array( [ np.power(distances[knn_indices[j]], 2) if distances[knn_indices[j]] != 0 else 0.001 for j in range(self.k) ] )\n",
        "              prediction = np.dot(knn_outputs, 1.0/weights_sq) / np.sum(1.0/weights_sq)\n",
        "            else:\n",
        "              # If using non-distance weighting, record average output of k nearest neighbors\n",
        "              prediction = np.sum(output_options) / self.k\n",
        "            # Append highest-voted output to predictions list as the prediction for this instance\n",
        "            predictions.append(prediction)\n",
        "\n",
        "        return predictions\n",
        "\n",
        "    # Returns the Mean score given input data and labels\n",
        "    def score(self, X, y):\n",
        "        \"\"\" Return accuracy of model on a given dataset. Must implement own score function.\n",
        "        Args:\n",
        "            X (array-like): A 2D numpy array with data, excluding targets\n",
        "            y (array-like): A 2D numpy array with targets\n",
        "        Returns:\n",
        "            score : float\n",
        "                Mean accuracy of self.predict(X) wrt. y.\n",
        "        \"\"\"\n",
        "        # Ensure features of each data instance are in float form\n",
        "        X = self.set_floats(X)\n",
        "        # Normalize data, if specified\n",
        "        if self.normalize: X = self.normalize_data(X)\n",
        "\n",
        "        # Predict outputs of each instance in given dataset X\n",
        "        predictions = self.predict(X)\n",
        "        # Return accuracy if using the classification algorithm\n",
        "        if self.algorithm == \"classification\":\n",
        "          score = np.mean( [ 1 if predictions[i] == y[i] else 0 for i in range(len(predictions)) ] )\n",
        "          return round(score, 4), predictions\n",
        "        # Return Mean Squared Error if using the regression algorithm\n",
        "        elif self.algorithm == \"regression\":\n",
        "          y = y.astype(float)\n",
        "          mse = np.mean( np.power(predictions - y, 2) )\n",
        "          return mse, predictions\n",
        "    "
      ]
    },
    {
      "cell_type": "markdown",
      "metadata": {
        "id": "3VBFlfQk-bUt"
      },
      "source": [
        "## Debug and Evaluation\n",
        "\n",
        "Debug and Evaluate your model using the parameters below:\n",
        "- Use distance weighting\n",
        "- KNN = 3 (three nearest neighbors)\n",
        "- Don’t normalize the data\n",
        "- Use Euclidean Distance\n",
        "---\n",
        "\n",
        "### 1.1 (20%) Debug using this [training set](https://raw.githubusercontent.com/cs472ta/CS472/master/datasets/glass_train.arff) and this [test set](https://raw.githubusercontent.com/cs472ta/CS472/master/datasets/glass_test.arff)\n",
        "\n",
        "Expected Results:\n",
        "- Not using inverse weighted distancing = roughly [68.29%]\n",
        "- Link to [debug solution](https://github.com/cs472ta/CS472/blob/master/debug_solutions/glass_no_inv_predictions.txt)\n",
        "- Using inverse weighted distancing = roughly [74.39%]\n",
        "- Link to [debug solution](https://github.com/cs472ta/CS472/blob/master/debug_solutions/glass_inv_predictions.txt)"
      ]
    },
    {
      "cell_type": "code",
      "execution_count": null,
      "metadata": {
        "colab": {
          "base_uri": "https://localhost:8080/"
        },
        "id": "irPmudz1-bU7",
        "outputId": "e5062812-2e0e-4696-bb88-9ca27745f539"
      },
      "outputs": [
        {
          "output_type": "stream",
          "name": "stdout",
          "text": [
            "  % Total    % Received % Xferd  Average Speed   Time    Time     Time  Current\n",
            "                                 Dload  Upload   Total   Spent    Left  Speed\n",
            "100 12431  100 12431    0     0  64744      0 --:--:-- --:--:-- --:--:-- 64744\n",
            "  % Total    % Received % Xferd  Average Speed   Time    Time     Time  Current\n",
            "                                 Dload  Upload   Total   Spent    Left  Speed\n",
            "100  5431  100  5431    0     0  42763      0 --:--:-- --:--:-- --:--:-- 42763\n"
          ]
        }
      ],
      "source": [
        "# Load glass data\n",
        "# Training data\n",
        "!curl -o debug_training_data.arff \"https://raw.githubusercontent.com/cs472ta/CS472/master/datasets/glass_train.arff\"\n",
        "debug_training_data = np.array(arff.loadarff('debug_training_data.arff')[0].tolist())\n",
        "X_debug_training, y_debug_training = debug_training_data[:,:-1], debug_training_data[:,-1].reshape(-1,1)\n",
        "\n",
        "# Test data\n",
        "!curl -o debug_test_data.arff \"https://raw.githubusercontent.com/cs472ta/CS472/master/datasets/glass_test.arff\"\n",
        "debug_test_data = np.array(arff.loadarff('debug_test_data.arff')[0].tolist())\n",
        "X_debug_test, y_debug_test = debug_test_data[:,:-1], debug_test_data[:,-1].reshape(-1,1)"
      ]
    },
    {
      "cell_type": "code",
      "execution_count": null,
      "metadata": {
        "colab": {
          "base_uri": "https://localhost:8080/"
        },
        "id": "4xTIfwzn4rrS",
        "outputId": "82b55d93-c254-401a-a90b-bb0276e82ddf"
      },
      "outputs": [
        {
          "output_type": "stream",
          "name": "stdout",
          "text": [
            "Score w/o Distance Weighting: 0.6829\n"
          ]
        }
      ],
      "source": [
        "# Train on training set (no distance weighting)\n",
        "debug_knn = KNNClassifier(weight_type=\"no_weight\", algorithm=\"classification\", k=3)\n",
        "_ = debug_knn.fit(X_debug_training, y_debug_training)\n",
        "\n",
        "# Predict on test set (no distance weighting)\n",
        "score, predictions = debug_knn.score(X_debug_test, y_debug_test)\n",
        "print(f\"Score w/o Distance Weighting: {score}\")\n",
        "#print(f\"Predictions: {predictions}\")"
      ]
    },
    {
      "cell_type": "code",
      "execution_count": null,
      "metadata": {
        "colab": {
          "base_uri": "https://localhost:8080/"
        },
        "id": "6Dfye6Pa_ej-",
        "outputId": "c3b1a0bd-d71c-4e3f-cfbf-621feb9dc079"
      },
      "outputs": [
        {
          "output_type": "stream",
          "name": "stdout",
          "text": [
            "Score w Distance Weighting: 0.7439\n"
          ]
        }
      ],
      "source": [
        "# Train on training set (with distance weighting)\n",
        "debug_knn = KNNClassifier(weight_type=\"inverse_distance\", algorithm=\"classification\", k=3)\n",
        "_ = debug_knn.fit(X_debug_training, y_debug_training)\n",
        "\n",
        "# Predict on test set (no distance weighting)\n",
        "score, predictions = debug_knn.score(X_debug_test, y_debug_test)\n",
        "print(f\"Score w Distance Weighting: {score}\")\n",
        "#print(f\"Predictions: {predictions}\")"
      ]
    },
    {
      "cell_type": "markdown",
      "metadata": {
        "id": "RECo_FXu-bU8"
      },
      "source": [
        "### 1.2 (20%) Evaluate\n",
        "\n",
        "We will evaluate your model based on its performance on the [diabetes](https://archive.ics.uci.edu/ml/datasets/Diabetes) problem.\n",
        "- Use this [training set](https://raw.githubusercontent.com/cs472ta/CS472/master/datasets/diabetes_train.arff) and this [test set](https://raw.githubusercontent.com/cs472ta/CS472/master/datasets/diabetes_test.arff) and have your code print the accuracy."
      ]
    },
    {
      "cell_type": "code",
      "execution_count": null,
      "metadata": {
        "colab": {
          "base_uri": "https://localhost:8080/"
        },
        "id": "mJyt2hgK-bU9",
        "outputId": "c272a31f-7f04-40cb-f230-cbb2e65f5980"
      },
      "outputs": [
        {
          "output_type": "stream",
          "name": "stdout",
          "text": [
            "  % Total    % Received % Xferd  Average Speed   Time    Time     Time  Current\n",
            "                                 Dload  Upload   Total   Spent    Left  Speed\n",
            "100 37419  100 37419    0     0   264k      0 --:--:-- --:--:-- --:--:--  264k\n",
            "  % Total    % Received % Xferd  Average Speed   Time    Time     Time  Current\n",
            "                                 Dload  Upload   Total   Spent    Left  Speed\n",
            "100 73698  100 73698    0     0   418k      0 --:--:-- --:--:-- --:--:--  418k\n"
          ]
        }
      ],
      "source": [
        "# Load diabetes training data\n",
        "!curl -o eval_training_data.arff \"https://raw.githubusercontent.com/cs472ta/CS472/master/datasets/diabetes_train.arff\"\n",
        "eval_training_data = np.array(arff.loadarff('eval_training_data.arff')[0].tolist())\n",
        "X_eval_training, y_eval_training = eval_training_data[:,:-1], eval_training_data[:,-1].reshape(-1,1)\n",
        "\n",
        "# Load diabetes test data\n",
        "!curl -o eval_test_data.arff \"https://raw.githubusercontent.com/cs472ta/CS472/master/datasets/diabetes_test.arff\"\n",
        "eval_test_data = np.array(arff.loadarff('eval_test_data.arff')[0].tolist())\n",
        "X_eval_test, y_eval_test = eval_test_data[:,:-1], eval_test_data[:,-1].reshape(-1,1)"
      ]
    },
    {
      "cell_type": "code",
      "execution_count": null,
      "metadata": {
        "colab": {
          "base_uri": "https://localhost:8080/"
        },
        "id": "xCRSvO8l3_x1",
        "outputId": "0af77294-f447-40a6-8605-c6f4fb354b28"
      },
      "outputs": [
        {
          "output_type": "stream",
          "name": "stdout",
          "text": [
            "Score w/o Distance Weighting: 0.8411\n"
          ]
        }
      ],
      "source": [
        "# Train on training set (without distance weighting)\n",
        "eval_knn = KNNClassifier(weight_type=\"no_weight\", algorithm=\"classification\", k=3)\n",
        "eval_knn.fit(X_eval_training, y_eval_training)\n",
        "# Predict on test set\n",
        "score, predictions = eval_knn.score(X_eval_test, y_eval_test)\n",
        "print(f\"Score w/o Distance Weighting: {score}\")\n",
        "#print(f\"Predictions: {predictions}\")"
      ]
    },
    {
      "cell_type": "code",
      "execution_count": null,
      "metadata": {
        "colab": {
          "base_uri": "https://localhost:8080/"
        },
        "id": "nJjwKIR16SUJ",
        "outputId": "bfc1f71e-a964-4e01-82ac-d2101d61fa96"
      },
      "outputs": [
        {
          "output_type": "stream",
          "name": "stdout",
          "text": [
            "Score w Distance Weighting: 0.8659\n"
          ]
        }
      ],
      "source": [
        "# Train on training set (with distance weighting)\n",
        "eval_knn = KNNClassifier(weight_type=\"inverse_distance\", algorithm=\"classification\", k=3)\n",
        "eval_knn.fit(X_eval_training, y_eval_training)\n",
        "# Predict on test set\n",
        "score, predictions = eval_knn.score(X_eval_test, y_eval_test)\n",
        "print(f\"Score w Distance Weighting: {score}\")\n",
        "#print(f\"Predictions: {predictions}\")"
      ]
    },
    {
      "cell_type": "markdown",
      "metadata": {
        "id": "9vWiTdlbR2Xh"
      },
      "source": [
        "## 2. KNN with and without normalization\n",
        "\n",
        "- Use the [magic telescope](http://archive.ics.uci.edu/ml/datasets/MAGIC+Gamma+Telescope) task with this [training set](https://raw.githubusercontent.com/cs472ta/CS472/master/datasets/magic_telescope_train.arff) and this [test set](https://raw.githubusercontent.com/cs472ta/CS472/master/datasets/magic_telescope_test.arff) \n",
        "\n",
        "### 2.1 (5%)\n",
        "- Try it with k=3 and without distance weighting and *without* normalization\n"
      ]
    },
    {
      "cell_type": "code",
      "execution_count": null,
      "metadata": {
        "colab": {
          "base_uri": "https://localhost:8080/"
        },
        "id": "4SSoasDQSKXb",
        "outputId": "2d75808c-ac35-4e13-b622-71ac68098f19"
      },
      "outputs": [
        {
          "output_type": "stream",
          "name": "stdout",
          "text": [
            "  % Total    % Received % Xferd  Average Speed   Time    Time     Time  Current\n",
            "                                 Dload  Upload   Total   Spent    Left  Speed\n",
            "100  937k  100  937k    0     0  3691k      0 --:--:-- --:--:-- --:--:-- 3691k\n",
            "  % Total    % Received % Xferd  Average Speed   Time    Time     Time  Current\n",
            "                                 Dload  Upload   Total   Spent    Left  Speed\n",
            "100  505k  100  505k    0     0  2277k      0 --:--:-- --:--:-- --:--:-- 2267k\n"
          ]
        }
      ],
      "source": [
        "# Load magic telescope training data\n",
        "!curl -o magic_telescope_training.arff \"https://raw.githubusercontent.com/cs472ta/CS472/master/datasets/magic_telescope_train.arff\"\n",
        "magic_telescope_training_data = np.array(arff.loadarff('magic_telescope_training.arff')[0].tolist())\n",
        "X_magic_telescope_training, y_magic_telescope_training = magic_telescope_training_data[:,:-1], magic_telescope_training_data[:,-1].reshape(-1,1)\n",
        "\n",
        "# Load magic telescope test data\n",
        "!curl -o magic_telescope_test.arff \"https://raw.githubusercontent.com/cs472ta/CS472/master/datasets/magic_telescope_test.arff\"\n",
        "magic_telescope_test_data = np.array(arff.loadarff('magic_telescope_test.arff')[0].tolist())\n",
        "X_magic_telescope_test, y_magic_telescope_test = magic_telescope_test_data[:,:-1], magic_telescope_test_data[:,-1].reshape(-1,1)"
      ]
    },
    {
      "cell_type": "code",
      "execution_count": null,
      "metadata": {
        "colab": {
          "base_uri": "https://localhost:8080/"
        },
        "id": "MUIb4R-p8OYV",
        "outputId": "153f5639-a7f5-45ee-bfb8-caea10ba964f"
      },
      "outputs": [
        {
          "output_type": "stream",
          "name": "stdout",
          "text": [
            "Score w/o Normalization or Distance Weighting: 0.8083\n"
          ]
        }
      ],
      "source": [
        "telescope_knn = KNNClassifier(weight_type=\"no_weight\", k=3, normalize=False)\n",
        "\n",
        "# Train/Predict without normalization or distance weighting\n",
        "_ = telescope_knn.fit(X_magic_telescope_training, y_magic_telescope_training)\n",
        "score, predictions = telescope_knn.score(X_magic_telescope_test, y_magic_telescope_test) # Takes ~14 seconds to complete\n",
        "print(f\"Score w/o Normalization or Distance Weighting: {score}\")\n",
        "#print(f\"Predictions: {predictions}\")"
      ]
    },
    {
      "cell_type": "markdown",
      "metadata": {
        "id": "ukcfe_W6-bU_"
      },
      "source": [
        "### 2.2 (5%)\n",
        "- Try it with k=3 without distance weighting and *with* normalization (input features normalized between 0 and 1). Use the normalization formula (x-xmin)/(xmax-xmin)"
      ]
    },
    {
      "cell_type": "code",
      "execution_count": null,
      "metadata": {
        "id": "7eeZsd8v-bU_",
        "colab": {
          "base_uri": "https://localhost:8080/"
        },
        "outputId": "b8449642-93d6-4f7a-c259-1eb998ed0a9f"
      },
      "outputs": [
        {
          "output_type": "stream",
          "name": "stdout",
          "text": [
            "Score w Normalization, w/o Distance Weighting: 0.8158\n"
          ]
        }
      ],
      "source": [
        "telescope_knn = KNNClassifier(weight_type=\"no_weight\", k=3, normalize=True)\n",
        "\n",
        "# Train/Predict with normalization\n",
        "_ = telescope_knn.fit(X_magic_telescope_training, y_magic_telescope_training)\n",
        "score, predictions = telescope_knn.score(X_magic_telescope_test, y_magic_telescope_test)\n",
        "print(f\"Score w Normalization, w/o Distance Weighting: {score}\")\n",
        "#print(f\"Predictions: {predictions}\")"
      ]
    },
    {
      "cell_type": "markdown",
      "metadata": {
        "id": "JpjyF5lj-bVA"
      },
      "source": [
        "*Discuss the results of using normalized data vs. unnormalized data*\n",
        "\n",
        "Accuracy was 0.75 percentage points higher when using normalized data than when using non-normalized data. This is a small increase in accuracy on a 0-100 scale, but for a large dataset like the magic telescope dataset (~20,000 data instances), this accuracy boost yields a 150-instance increase in correct output class predictions."
      ]
    },
    {
      "cell_type": "markdown",
      "metadata": {
        "id": "BgKvATqy-bVB"
      },
      "source": [
        "### 2.3 (5%)\n",
        "\n",
        "- Using your normalized data, create one graph with classification accuracy on the test set on the y-axis and k values on the x-axis. \n",
        "    - Use odd values of k from 1 to 15.\n",
        "- As a rough sanity check, typical knn accuracies for the magic telescope data set are 75-85%"
      ]
    },
    {
      "cell_type": "code",
      "execution_count": null,
      "metadata": {
        "id": "HwaydMti-bVB"
      },
      "outputs": [],
      "source": [
        "# Train/Predict with normalization using k=1,3,...,15\n",
        "kvals = []\n",
        "accuracies = []\n",
        "for i in range(1,16,2): # Takes ~ 2m5s to run\n",
        "  kvals.append(i)\n",
        "  trial_knn = KNNClassifier(weight_type=\"no_weight\", k=i, normalize=True)\n",
        "  _ = trial_knn.fit(X_magic_telescope_training, y_magic_telescope_training)\n",
        "  _score, _ = trial_knn.score(X_magic_telescope_test, y_magic_telescope_test)\n",
        "  accuracies.append(_score)"
      ]
    },
    {
      "cell_type": "code",
      "source": [
        "# Graph classification accuracy over k\n",
        "print(\"Accuracies:\",accuracies)\n",
        "plt.plot(kvals,accuracies, color=\"green\", linewidth=3)\n",
        "plt.title(\"KNN Classification Accuracy Over K\")\n",
        "plt.xlabel(\"K Nearest Neighbors\")\n",
        "plt.ylabel(\"Accuracy (%)\")\n",
        "plt.xticks(kvals)\n",
        "plt.show()"
      ],
      "metadata": {
        "colab": {
          "base_uri": "https://localhost:8080/",
          "height": 312
        },
        "id": "zOiSxLkfMv6H",
        "outputId": "3da73bb7-13b7-46ce-aa59-dedf5d16eb9b"
      },
      "execution_count": null,
      "outputs": [
        {
          "output_type": "stream",
          "name": "stdout",
          "text": [
            "Accuracies: [0.7874, 0.8158, 0.8272, 0.8294, 0.8282, 0.8294, 0.8297, 0.8305]\n"
          ]
        },
        {
          "output_type": "display_data",
          "data": {
            "text/plain": [
              "<Figure size 432x288 with 1 Axes>"
            ],
            "image/png": "[encoded data removed]"
          },
          "metadata": {
            "needs_background": "light"
          }
        }
      ]
    },
    {
      "cell_type": "markdown",
      "metadata": {
        "id": "IWzl0p18-bVC"
      },
      "source": [
        "*For the rest of the experiments use only normalized data*"
      ]
    },
    {
      "cell_type": "markdown",
      "metadata": {
        "id": "SIRG42TgSR4x"
      },
      "source": [
        "## 3. (10%) KNN regression\n",
        "\n",
        "- Use the regression variation of your algorithm (without distance weighting) on the [housing price prediction](https://www.cs.toronto.edu/~delve/data/boston/bostonDetail.html) problem.  Use this [training set](https://raw.githubusercontent.com/cs472ta/CS472/master/datasets/housing_train.arff) and this [test set](https://raw.githubusercontent.com/cs472ta/CS472/master/datasets/housing_test.arff). Note this data set has an example of an inappropriate use of data which we will discuss.\n",
        "- Use Mean Square Error (MSE) on the test set as your accuracy metric for this case\n",
        "    - Do not normalize regression output values\n",
        "- Graph MSE on the test set with odd values of k from 1 to 15"
      ]
    },
    {
      "cell_type": "code",
      "execution_count": null,
      "metadata": {
        "id": "KBGUn43ASiXW",
        "colab": {
          "base_uri": "https://localhost:8080/"
        },
        "outputId": "de2f9343-9952-46c9-dbb4-ed94c5ad36d3"
      },
      "outputs": [
        {
          "output_type": "stream",
          "name": "stdout",
          "text": [
            "  % Total    % Received % Xferd  Average Speed   Time    Time     Time  Current\n",
            "                                 Dload  Upload   Total   Spent    Left  Speed\n",
            "100 34205  100 34205    0     0   191k      0 --:--:-- --:--:-- --:--:--  191k\n",
            "  % Total    % Received % Xferd  Average Speed   Time    Time     Time  Current\n",
            "                                 Dload  Upload   Total   Spent    Left  Speed\n",
            "100  3885  100  3885    0     0  24433      0 --:--:-- --:--:-- --:--:-- 24433\n"
          ]
        }
      ],
      "source": [
        "# Load housing price prediction data\n",
        "# Training data\n",
        "!curl -o housing_training_data.arff \"https://raw.githubusercontent.com/cs472ta/CS472/master/datasets/housing_train.arff\"\n",
        "housing_training_data = np.array(arff.loadarff('housing_training_data.arff')[0].tolist())\n",
        "X_housing_training, y_housing_training = housing_training_data[:,:-1], housing_training_data[:,-1].reshape(-1,1)\n",
        "\n",
        "# Test data\n",
        "!curl -o housing_test_data.arff \"https://raw.githubusercontent.com/cs472ta/CS472/master/datasets/housing_test.arff\"\n",
        "housing_test_data = np.array(arff.loadarff('housing_test_data.arff')[0].tolist())\n",
        "X_housing_test, y_housing_test = housing_test_data[:,:-1], housing_test_data[:,-1].reshape(-1,1)"
      ]
    },
    {
      "cell_type": "code",
      "source": [
        "# Train/Predict using k=1,3,...,15\n",
        "kvals = []\n",
        "mse_vals = []\n",
        "for i in range(1,16,2):\n",
        "  kvals.append(i)\n",
        "  trial_knn = KNNClassifier(algorithm=\"regression\", weight_type=\"no_weight\", k=i, normalize=True)\n",
        "  _ = trial_knn.fit(X_housing_training, y_housing_training)\n",
        "  mse, _ = trial_knn.score(X_housing_test, y_housing_test)\n",
        "  mse_vals.append(mse)"
      ],
      "metadata": {
        "id": "Toq2IAR-WFQw"
      },
      "execution_count": null,
      "outputs": []
    },
    {
      "cell_type": "code",
      "source": [
        "# Graph MSE over k\n",
        "print(\"MSE's:\",mse_vals)\n",
        "plt.plot(kvals,mse_vals, color=\"blue\", linewidth=3)\n",
        "plt.title(\"KNN Regression MSE Over K\")\n",
        "plt.xlabel(\"K Nearest Neighbors\")\n",
        "plt.ylabel(\"Mean Squared Error\")\n",
        "plt.xticks(kvals)\n",
        "plt.show()"
      ],
      "metadata": {
        "colab": {
          "base_uri": "https://localhost:8080/",
          "height": 332
        },
        "id": "ZxdsP1QkWHBn",
        "outputId": "fe3ddbe3-c4d5-41ce-bbcd-7751d8b02570"
      },
      "execution_count": null,
      "outputs": [
        {
          "output_type": "stream",
          "name": "stdout",
          "text": [
            "MSE's: [175.849261822376, 142.21523644752017, 128.49972748942713, 123.32240613892617, 121.28288208238996, 120.80819932575201, 118.9695234195314, 119.36559164423937]\n"
          ]
        },
        {
          "output_type": "display_data",
          "data": {
            "text/plain": [
              "<Figure size 432x288 with 1 Axes>"
            ],
            "image/png": "[encoded data removed]"
          },
          "metadata": {
            "needs_background": "light"
          }
        }
      ]
    },
    {
      "cell_type": "markdown",
      "metadata": {
        "id": "v19fpixqTe-7"
      },
      "source": [
        "## 4. KNN with distance weighting\n",
        "- Repeat your experiments for magic telescope and housing using distance-weighted (inverse of distance squared) voting and discuss your results."
      ]
    },
    {
      "cell_type": "markdown",
      "metadata": {
        "id": "cdt4AH1H-bVE"
      },
      "source": [
        "### 4.1 (7.5%) Magic Telescope Dataset"
      ]
    },
    {
      "cell_type": "code",
      "execution_count": null,
      "metadata": {
        "id": "ZCPFUAGTS2sX"
      },
      "outputs": [],
      "source": [
        "# Train/Predict magic telescope using distance-weighted voting\n",
        "kvals = []\n",
        "accuracies = []\n",
        "for i in range(1,16,2): #Takes ~2m10s to run\n",
        "  kvals.append(i)\n",
        "  trial_knn = KNNClassifier(weight_type=\"inverse_distance\", k=i, normalize=True)\n",
        "  _ = trial_knn.fit(X_magic_telescope_training, y_magic_telescope_training)\n",
        "  _score, _ = trial_knn.score(X_magic_telescope_test, y_magic_telescope_test)\n",
        "  accuracies.append(_score)"
      ]
    },
    {
      "cell_type": "code",
      "source": [
        "# Graph classification accuracy over k\n",
        "print(\"Accuracies:\",accuracies)\n",
        "plt.plot(kvals,accuracies, color=\"green\", linewidth=3)\n",
        "plt.title(\"KNN Classification Accuracy Over K (With Distance Weighting)\")\n",
        "plt.xlabel(\"K Nearest Neighbors\")\n",
        "plt.ylabel(\"Accuracy (%)\")\n",
        "plt.xticks(kvals)\n",
        "plt.show()"
      ],
      "metadata": {
        "colab": {
          "base_uri": "https://localhost:8080/",
          "height": 312
        },
        "id": "wFf0pHjliK0K",
        "outputId": "14c3b61e-378a-418a-d211-b1269c3256d5"
      },
      "execution_count": null,
      "outputs": [
        {
          "output_type": "stream",
          "name": "stdout",
          "text": [
            "Accuracies: [0.7874, 0.8158, 0.8275, 0.8291, 0.8285, 0.8294, 0.8302, 0.8305]\n"
          ]
        },
        {
          "output_type": "display_data",
          "data": {
            "text/plain": [
              "<Figure size 432x288 with 1 Axes>"
            ],
            "image/png": "[encoded data removed]"
          },
          "metadata": {
            "needs_background": "light"
          }
        }
      ]
    },
    {
      "cell_type": "markdown",
      "metadata": {
        "id": "ZG_2dqrp-bVF"
      },
      "source": [
        "### 4.2 (7.5%) Housing Dataset"
      ]
    },
    {
      "cell_type": "code",
      "execution_count": null,
      "metadata": {
        "id": "0O8S3w3P-bVF"
      },
      "outputs": [],
      "source": [
        "# Train/Predict housing using distance-weighted voting\n",
        "kvals = []\n",
        "weighted_mse_vals = []\n",
        "for i in range(1,16,2):\n",
        "  kvals.append(i)\n",
        "  trial_knn = KNNClassifier(algorithm=\"regression\", weight_type=\"inverse_distance\", k=i, normalize=True)\n",
        "  _ = trial_knn.fit(X_housing_training, y_housing_training)\n",
        "  mse, _ = trial_knn.score(X_housing_test, y_housing_test)\n",
        "  weighted_mse_vals.append(mse)"
      ]
    },
    {
      "cell_type": "code",
      "source": [
        "# Graph MSE over k\n",
        "print(\"MSE's:\",weighted_mse_vals)\n",
        "plt.plot(kvals,weighted_mse_vals, color=\"blue\", linewidth=3)\n",
        "plt.title(\"KNN Regression MSE Over K (With Distance Weighting)\")\n",
        "plt.xlabel(\"K Nearest Neighbors\")\n",
        "plt.ylabel(\"Mean Squared Error\")\n",
        "plt.xticks(kvals)\n",
        "plt.show()"
      ],
      "metadata": {
        "colab": {
          "base_uri": "https://localhost:8080/",
          "height": 332
        },
        "id": "fhEb5nbEifr0",
        "outputId": "46f4df26-42c0-448c-8adb-21ee36f9a956"
      },
      "execution_count": null,
      "outputs": [
        {
          "output_type": "stream",
          "name": "stdout",
          "text": [
            "MSE's: [175.849261822376, 154.6436859017381, 138.82844439723186, 137.59873363076508, 135.8424157273118, 133.78408821040173, 130.63721724635167, 129.25859008288157]\n"
          ]
        },
        {
          "output_type": "display_data",
          "data": {
            "text/plain": [
              "<Figure size 432x288 with 1 Axes>"
            ],
            "image/png": "[encoded data removed]"
          },
          "metadata": {
            "needs_background": "light"
          }
        }
      ]
    },
    {
      "cell_type": "markdown",
      "metadata": {
        "id": "ptzEAZi0-bVF"
      },
      "source": [
        "*Discuss your results*"
      ]
    },
    {
      "cell_type": "markdown",
      "metadata": {
        "id": "Lg2csYCd-bVG"
      },
      "source": [
        "## 5. (10%) KNN with nominal and unknown data\n",
        "\n",
        "- Use the [credit-approval](https://archive.ics.uci.edu/ml/datasets/Credit+Approval) task and this [dataset](https://raw.githubusercontent.com/cs472ta/CS472/master/datasets/credit_approval.arff)\n",
        "    - Use a 70/30 split of the data for the training/test set\n",
        "- Note that this set has both continuous and nominal attributes, together with don’t know values. \n",
        "- Implement and justify a distance metric which supports continuous, nominal, and don’t know attribute values\n",
        "    - You need to handle don't knows with the distance metric, not by imputing a value.\n",
        "    - More information on distance metrics can be found [here](https://www.jair.org/index.php/jair/article/view/10182/24168).\n",
        "- Use your own choice for k.\n",
        "- As a rough sanity check, typical knn accuracies for the credit data set are 70-80%."
      ]
    },
    {
      "cell_type": "code",
      "source": [
        "# Load dataset and split into train/test sets\n",
        "!curl -o credit_data.arff \"https://raw.githubusercontent.com/cs472ta/CS472/master/datasets/credit_approval.arff\"\n",
        "credit_data = np.array(arff.loadarff('credit_data.arff')[0].tolist())\n",
        "X_credit, y_credit = credit_data[:,:-1], credit_data[:,-1].reshape(-1,1)\n",
        "X_credit_training, X_credit_test, y_credit_training, y_credit_test = train_test_split(X_credit, y_credit, test_size=0.3, shuffle=True)"
      ],
      "metadata": {
        "colab": {
          "base_uri": "https://localhost:8080/"
        },
        "id": "fsc2UR1qTEQC",
        "outputId": "b26d4c16-297e-4036-8e87-8191003812ab"
      },
      "execution_count": null,
      "outputs": [
        {
          "output_type": "stream",
          "name": "stdout",
          "text": [
            "  % Total    % Received % Xferd  Average Speed   Time    Time     Time  Current\n",
            "                                 Dload  Upload   Total   Spent    Left  Speed\n",
            "\r  0     0    0     0    0     0      0      0 --:--:-- --:--:-- --:--:--     0\r100 34315  100 34315    0     0   186k      0 --:--:-- --:--:-- --:--:--  187k\n"
          ]
        }
      ]
    },
    {
      "cell_type": "code",
      "execution_count": null,
      "metadata": {
        "id": "LBcYhe5q-bVG",
        "colab": {
          "base_uri": "https://localhost:8080/"
        },
        "outputId": "488c10d3-5507-4a91-83d7-c6f6955bc375"
      },
      "outputs": [
        {
          "output_type": "stream",
          "name": "stdout",
          "text": [
            "Score: 0.4831\n"
          ]
        }
      ],
      "source": [
        "# Train/Predict credit-approval\n",
        "credit_knn = KNNClassifier(algorithm=\"classification\", weight_type=\"inverse_distance\", k=7, normalize=True, \n",
        "                           columntype=['n','c','c','n','n','n','n','c','n','n','c','n','n','c','c'])\n",
        "_ = credit_knn.fit(X_credit_training, y_credit_training)\n",
        "score, predictions = credit_knn.score(X_credit_test, y_credit_test)\n",
        "print(f\"Score: {score}\")"
      ]
    },
    {
      "cell_type": "markdown",
      "metadata": {
        "id": "c0BsTcNp-bVH"
      },
      "source": [
        "*Explain and justify your distance metric and discuss your results*\n",
        "\n",
        "My distance metric sets the distance between non-matching nominal data features as 0.5. It also counts the difference between a '?' value and any other value (nominal or continuous) as 0.5, as well. There may still be a bug in this part of my algorithm, as the accuracy it yields is pretty poor, but I have run out of time to finish debugging it."
      ]
    },
    {
      "cell_type": "markdown",
      "metadata": {
        "id": "oBBmeNQ7jvcQ"
      },
      "source": [
        "## 6. (10%) Scikit-Learn KNN \n",
        "- Use the scikit-learn KNN version on magic telescope and housing and compare your results\n",
        "- Try out different hyperparameters to see how well you can do. "
      ]
    },
    {
      "cell_type": "code",
      "execution_count": null,
      "metadata": {
        "id": "OFQv70W2VyqJ",
        "colab": {
          "base_uri": "https://localhost:8080/"
        },
        "outputId": "bd501553-fdf8-4ad0-f498-50fc9da7cea9"
      },
      "outputs": [
        {
          "output_type": "stream",
          "name": "stderr",
          "text": [
            "/usr/local/lib/python3.7/dist-packages/sklearn/utils/validation.py:976: FutureWarning: Arrays of bytes/strings is being converted to decimal numbers if dtype='numeric'. This behavior is deprecated in 0.24 and will be removed in 1.1 (renaming of 0.26). Please convert your data to numeric values explicitly instead.\n",
            "  estimator=estimator,\n",
            "/usr/local/lib/python3.7/dist-packages/sklearn/neighbors/_classification.py:198: DataConversionWarning: A column-vector y was passed when a 1d array was expected. Please change the shape of y to (n_samples,), for example using ravel().\n",
            "  return self._fit(X, y)\n",
            "/usr/local/lib/python3.7/dist-packages/sklearn/base.py:566: FutureWarning: Arrays of bytes/strings is being converted to decimal numbers if dtype='numeric'. This behavior is deprecated in 0.24 and will be removed in 1.1 (renaming of 0.26). Please convert your data to numeric values explicitly instead.\n",
            "  X = check_array(X, **check_params)\n"
          ]
        },
        {
          "output_type": "stream",
          "name": "stdout",
          "text": [
            "Magic Telescope Score (Accuracy): 0.8244824482448245\n",
            "Housing Score (R^2): 0.42822888333616493\n"
          ]
        }
      ],
      "source": [
        "# Train/Predict magic telescope using scikit's KNN\n",
        "skl_knn = KNeighborsClassifier(n_neighbors=15, weights='distance',n_jobs=-1)\n",
        "_ = skl_knn.fit(X_magic_telescope_training, y_magic_telescope_training)\n",
        "score = skl_knn.score(X_magic_telescope_test, y_magic_telescope_test)\n",
        "print(\"Magic Telescope Score (Accuracy):\",score)\n",
        "# Train/Predict housing using scikit's KNN\n",
        "skl_knn = KNeighborsRegressor(n_neighbors=17, weights='uniform',n_jobs=-1)\n",
        "_ = skl_knn.fit(X_housing_training.astype(float), y_housing_training.astype(float))\n",
        "score = skl_knn.score(X_housing_test.astype(float), y_housing_test.astype(float))\n",
        "print(\"Housing Score (R^2):\",score)"
      ]
    },
    {
      "cell_type": "markdown",
      "metadata": {
        "id": "BqSFAXwlk3Ms"
      },
      "source": [
        "*Report your comparison*\n",
        "\n",
        "Using the scikit learn knn package for classification on the magic telescope task, I achieved about a 1-percentage-point improvement over using my own model (~82% vs ~81%). Optimal hyperparameters for this one turned out to be a k-value of 15 and using inverse distance weighting. The scikit learn knn package for regression performed quite poorly on the housing task, only achieving an R^2 value of around ~0.43. I belive my regression model performed better than the scikit learn model on this task. Optimal hyperparameters that I found for this task were a k-value of 17 and no distance weighting."
      ]
    },
    {
      "cell_type": "markdown",
      "metadata": {
        "id": "cTlK-kijk8Mg"
      },
      "source": [
        "## 7. (optional 5% extra credit): Reducing the data set\n",
        "- Choose either of the data sets above and use the best k value you found.\n",
        "- Implement a reduction algorithm that removes data points in some rational way such that performance does not drop too drastically on the test set given the reduced training set.\n",
        "- Compare your performance on the test set for the reduced and non-reduced versions and give the number (and percentage) of training examples removed from the original training set. \n",
        "    - Note that performance for magic telescope is classification accuracy and for housing it is mean squared error.\n",
        "    - Magic Telescope has about 12,000 instances and if you use a leave one out style of testing for your data set reduction, then your algorithm will run slow since that is n^2 at each step.\n",
        "        - If you wish, you may use a random subset of 2,000 of the magic telescope instances.\n",
        "    - More information on reduction techniques can be found [here](http://axon.cs.byu.edu/~martinez/classes/478/slides/IBL.pdf)."
      ]
    },
    {
      "cell_type": "code",
      "execution_count": null,
      "metadata": {
        "id": "NESBw43i-bVJ"
      },
      "outputs": [],
      "source": [
        "# Code here"
      ]
    },
    {
      "cell_type": "markdown",
      "metadata": {
        "id": "U_sEfI83-bVJ"
      },
      "source": [
        "Discussion. How well did it do?"
      ]
    }
  ],
  "metadata": {
    "colab": {
      "provenance": []
    },
    "kernelspec": {
      "display_name": "Python 3.10.7 64-bit",
      "language": "python",
      "name": "python3"
    },
    "language_info": {
      "codemirror_mode": {
        "name": "ipython",
        "version": 3
      },
      "file_extension": ".py",
      "mimetype": "text/x-python",
      "name": "python",
      "nbconvert_exporter": "python",
      "pygments_lexer": "ipython3",
      "version": "3.10.7"
    },
    "vscode": {
      "interpreter": {
        "hash": "aee8b7b246df8f9039afb4144a1f6fd8d2ca17a180786b69acc140d282b71a49"
      }
    }
  },
  "nbformat": 4,
  "nbformat_minor": 0
}